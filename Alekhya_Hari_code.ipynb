{
 "cells": [
  {
   "cell_type": "markdown",
   "id": "8b6959ff-1d3d-482d-9041-45f1e9d8e40c",
   "metadata": {},
   "source": [
    "# Loading Dataset"
   ]
  },
  {
   "cell_type": "code",
   "execution_count": 1,
   "id": "a4ad4eda-41d0-499e-9809-25e16bac5f43",
   "metadata": {},
   "outputs": [],
   "source": [
    "import pandas as pd\n",
    "df = pd.read_json('data.json')"
   ]
  },
  {
   "cell_type": "code",
   "execution_count": 2,
   "id": "4a9f5320-db47-42a9-b506-95ecbc95df48",
   "metadata": {},
   "outputs": [
    {
     "data": {
      "text/html": [
       "<div>\n",
       "<style scoped>\n",
       "    .dataframe tbody tr th:only-of-type {\n",
       "        vertical-align: middle;\n",
       "    }\n",
       "\n",
       "    .dataframe tbody tr th {\n",
       "        vertical-align: top;\n",
       "    }\n",
       "\n",
       "    .dataframe thead th {\n",
       "        text-align: right;\n",
       "    }\n",
       "</style>\n",
       "<table border=\"1\" class=\"dataframe\">\n",
       "  <thead>\n",
       "    <tr style=\"text-align: right;\">\n",
       "      <th></th>\n",
       "      <th>category</th>\n",
       "      <th>description</th>\n",
       "      <th>title</th>\n",
       "      <th>also_buy</th>\n",
       "      <th>brand</th>\n",
       "      <th>rank</th>\n",
       "      <th>main_cat</th>\n",
       "      <th>date</th>\n",
       "      <th>price</th>\n",
       "      <th>asin</th>\n",
       "      <th>imageURL</th>\n",
       "    </tr>\n",
       "  </thead>\n",
       "  <tbody>\n",
       "    <tr>\n",
       "      <th>0</th>\n",
       "      <td>[Grocery &amp; Gourmet Food, Cooking &amp; Baking, Sug...</td>\n",
       "      <td>[Shipped from UK, please allow 10 to 21 busine...</td>\n",
       "      <td>Trim Healthy Mama Xylitol</td>\n",
       "      <td>[B01898YHXK, B01BCM6LAC, B00Q4OL47O, B00Q4OL5Q...</td>\n",
       "      <td></td>\n",
       "      <td>315,867 in Grocery &amp; Gourmet Food (</td>\n",
       "      <td>Grocery</td>\n",
       "      <td></td>\n",
       "      <td></td>\n",
       "      <td>0853347867</td>\n",
       "      <td>[https://images-na.ssl-images-amazon.com/image...</td>\n",
       "    </tr>\n",
       "    <tr>\n",
       "      <th>1</th>\n",
       "      <td>[Grocery &amp; Gourmet Food, Beverages, Coffee, Te...</td>\n",
       "      <td>[Lipton Yellow Label Tea use only the finest t...</td>\n",
       "      <td>Lipton Yellow Label Tea (loose tea) - 450g</td>\n",
       "      <td>[B00886E4K0, B00CREXSHY, B001QTRGAQ, B002EYZM4...</td>\n",
       "      <td>Lipton</td>\n",
       "      <td>30,937 in Grocery &amp; Gourmet Food (</td>\n",
       "      <td>Grocery</td>\n",
       "      <td></td>\n",
       "      <td>$12.46</td>\n",
       "      <td>4639725043</td>\n",
       "      <td>[https://images-na.ssl-images-amazon.com/image...</td>\n",
       "    </tr>\n",
       "    <tr>\n",
       "      <th>2</th>\n",
       "      <td>[Grocery &amp; Gourmet Food, Beverages, Coffee, Te...</td>\n",
       "      <td>[Lipton Yellow Label Teabags uses a new way to...</td>\n",
       "      <td>Lipton Yellow Label Finest Blend Tea Bags 100 ...</td>\n",
       "      <td>[B000JSQDK4, B007ZI1SKG, 4639725043, B00KPFHOP...</td>\n",
       "      <td>Lipton</td>\n",
       "      <td>15,487 in Grocery &amp; Gourmet Food (</td>\n",
       "      <td>Grocery</td>\n",
       "      <td></td>\n",
       "      <td>$12.98</td>\n",
       "      <td>4639725183</td>\n",
       "      <td>[https://images-na.ssl-images-amazon.com/image...</td>\n",
       "    </tr>\n",
       "    <tr>\n",
       "      <th>3</th>\n",
       "      <td>[Grocery &amp; Gourmet Food, Canned, Jarred &amp; Pack...</td>\n",
       "      <td>[Dishes cooked with nutrela are very tasty and...</td>\n",
       "      <td>Nutrela High Protein Soya Chunks 200g (Pack of 6)</td>\n",
       "      <td>[B002FBD900, B00015YTS8, B00B3ARYDC, B002DMUIE...</td>\n",
       "      <td>Nutrela</td>\n",
       "      <td>195,125 in Grocery &amp; Gourmet Food (</td>\n",
       "      <td>Grocery</td>\n",
       "      <td></td>\n",
       "      <td>$24.99</td>\n",
       "      <td>5236363640</td>\n",
       "      <td>[]</td>\n",
       "    </tr>\n",
       "    <tr>\n",
       "      <th>4</th>\n",
       "      <td>[Grocery &amp; Gourmet Food, Beverages, Coffee, Te...</td>\n",
       "      <td>[20 Sachets, Empty contents into cup\\nPour 8oz...</td>\n",
       "      <td>Organo Gold Cafe Supreme 100% Certified Ganode...</td>\n",
       "      <td>[B00F3XJX6G, B003CY45VG, B003CGJAIM, B00E1C3FJ...</td>\n",
       "      <td>Organo Gold</td>\n",
       "      <td>89,943 in Grocery &amp; Gourmet Food (</td>\n",
       "      <td>Grocery</td>\n",
       "      <td></td>\n",
       "      <td>$29.90</td>\n",
       "      <td>5463213682</td>\n",
       "      <td>[https://images-na.ssl-images-amazon.com/image...</td>\n",
       "    </tr>\n",
       "  </tbody>\n",
       "</table>\n",
       "</div>"
      ],
      "text/plain": [
       "                                            category  \\\n",
       "0  [Grocery & Gourmet Food, Cooking & Baking, Sug...   \n",
       "1  [Grocery & Gourmet Food, Beverages, Coffee, Te...   \n",
       "2  [Grocery & Gourmet Food, Beverages, Coffee, Te...   \n",
       "3  [Grocery & Gourmet Food, Canned, Jarred & Pack...   \n",
       "4  [Grocery & Gourmet Food, Beverages, Coffee, Te...   \n",
       "\n",
       "                                         description  \\\n",
       "0  [Shipped from UK, please allow 10 to 21 busine...   \n",
       "1  [Lipton Yellow Label Tea use only the finest t...   \n",
       "2  [Lipton Yellow Label Teabags uses a new way to...   \n",
       "3  [Dishes cooked with nutrela are very tasty and...   \n",
       "4  [20 Sachets, Empty contents into cup\\nPour 8oz...   \n",
       "\n",
       "                                               title  \\\n",
       "0                          Trim Healthy Mama Xylitol   \n",
       "1         Lipton Yellow Label Tea (loose tea) - 450g   \n",
       "2  Lipton Yellow Label Finest Blend Tea Bags 100 ...   \n",
       "3  Nutrela High Protein Soya Chunks 200g (Pack of 6)   \n",
       "4  Organo Gold Cafe Supreme 100% Certified Ganode...   \n",
       "\n",
       "                                            also_buy        brand  \\\n",
       "0  [B01898YHXK, B01BCM6LAC, B00Q4OL47O, B00Q4OL5Q...                \n",
       "1  [B00886E4K0, B00CREXSHY, B001QTRGAQ, B002EYZM4...       Lipton   \n",
       "2  [B000JSQDK4, B007ZI1SKG, 4639725043, B00KPFHOP...       Lipton   \n",
       "3  [B002FBD900, B00015YTS8, B00B3ARYDC, B002DMUIE...      Nutrela   \n",
       "4  [B00F3XJX6G, B003CY45VG, B003CGJAIM, B00E1C3FJ...  Organo Gold   \n",
       "\n",
       "                                  rank main_cat date   price        asin  \\\n",
       "0  315,867 in Grocery & Gourmet Food (  Grocery               0853347867   \n",
       "1   30,937 in Grocery & Gourmet Food (  Grocery       $12.46  4639725043   \n",
       "2   15,487 in Grocery & Gourmet Food (  Grocery       $12.98  4639725183   \n",
       "3  195,125 in Grocery & Gourmet Food (  Grocery       $24.99  5236363640   \n",
       "4   89,943 in Grocery & Gourmet Food (  Grocery       $29.90  5463213682   \n",
       "\n",
       "                                            imageURL  \n",
       "0  [https://images-na.ssl-images-amazon.com/image...  \n",
       "1  [https://images-na.ssl-images-amazon.com/image...  \n",
       "2  [https://images-na.ssl-images-amazon.com/image...  \n",
       "3                                                 []  \n",
       "4  [https://images-na.ssl-images-amazon.com/image...  "
      ]
     },
     "execution_count": 2,
     "metadata": {},
     "output_type": "execute_result"
    }
   ],
   "source": [
    "df.head()"
   ]
  },
  {
   "cell_type": "markdown",
   "id": "c370ba4c-3531-4c39-85de-c5030133ea22",
   "metadata": {},
   "source": [
    "# Data Quality Check results"
   ]
  },
  {
   "cell_type": "code",
   "execution_count": 3,
   "id": "0193830c-aeba-4a1e-8de7-502bd6d1b789",
   "metadata": {},
   "outputs": [
    {
     "name": "stdout",
     "output_type": "stream",
     "text": [
      "Missing values--\n",
      " category       0\n",
      "description    0\n",
      "title          0\n",
      "also_buy       0\n",
      "brand          0\n",
      "rank           0\n",
      "main_cat       0\n",
      "date           0\n",
      "price          0\n",
      "asin           0\n",
      "imageURL       0\n",
      "dtype: int64\n",
      "Empty values in price--\n",
      " 28900\n",
      "Also buy stats--\n",
      " count    83294.000000\n",
      "mean        32.537061\n",
      "std         31.795178\n",
      "min          1.000000\n",
      "25%          5.000000\n",
      "50%         20.000000\n",
      "75%         54.000000\n",
      "max        100.000000\n",
      "Name: also_buy, dtype: float64\n"
     ]
    }
   ],
   "source": [
    "# Check for missing values in each column\n",
    "missing_values = df.isnull().sum()\n",
    "\n",
    "# Check for empty strings in the 'price' column (representing missing values)\n",
    "empty_strings_in_price = (df['price'] == '').sum()\n",
    "\n",
    "# Calculate descriptive statistics for the 'also_buy' column (e.g., average number of products bought together)\n",
    "also_buy_stats = df['also_buy'].apply(len).describe()\n",
    "\n",
    "print(\"Missing values--\\n\", missing_values)\n",
    "print(\"Empty values in price--\\n\", empty_strings_in_price)\n",
    "print(\"Also buy stats--\\n\",also_buy_stats)"
   ]
  },
  {
   "cell_type": "markdown",
   "id": "fc3b5c31-4b75-4f53-9266-15daa3c23267",
   "metadata": {},
   "source": [
    "#### From dataset we can see that, Although date has missing values its not showing up, and assuming there is no significance in using date while predicting recommendating, dropiing date column. data."
   ]
  },
  {
   "cell_type": "markdown",
   "id": "e1eee93e-ccd0-4534-9fca-36668f0ec46d",
   "metadata": {},
   "source": [
    "Mean: 32.25 (on average, each product is bought with about 32 other products)\n",
    "Standard Deviation: 31.41 (the spread of the data is quite large)\n",
    "Min: 1 (minimum number of products bought together)\n",
    "Max: 100 (maximum number of products bought together)\n",
    "25th, 50th, and 75th Percentiles: These give us an idea of the distribution of the data.data."
   ]
  },
  {
   "cell_type": "code",
   "execution_count": 5,
   "id": "a27a35af-4778-43bd-a8c4-11dbd23548a9",
   "metadata": {
    "scrolled": true
   },
   "outputs": [
    {
     "data": {
      "text/html": [
       "<div>\n",
       "<style scoped>\n",
       "    .dataframe tbody tr th:only-of-type {\n",
       "        vertical-align: middle;\n",
       "    }\n",
       "\n",
       "    .dataframe tbody tr th {\n",
       "        vertical-align: top;\n",
       "    }\n",
       "\n",
       "    .dataframe thead th {\n",
       "        text-align: right;\n",
       "    }\n",
       "</style>\n",
       "<table border=\"1\" class=\"dataframe\">\n",
       "  <thead>\n",
       "    <tr style=\"text-align: right;\">\n",
       "      <th></th>\n",
       "      <th>category</th>\n",
       "      <th>description</th>\n",
       "      <th>title</th>\n",
       "      <th>also_buy</th>\n",
       "      <th>brand</th>\n",
       "      <th>rank</th>\n",
       "      <th>main_cat</th>\n",
       "      <th>price</th>\n",
       "      <th>asin</th>\n",
       "      <th>imageURL</th>\n",
       "    </tr>\n",
       "  </thead>\n",
       "  <tbody>\n",
       "    <tr>\n",
       "      <th>0</th>\n",
       "      <td>[Grocery &amp; Gourmet Food, Cooking &amp; Baking, Sug...</td>\n",
       "      <td>[Shipped from UK, please allow 10 to 21 busine...</td>\n",
       "      <td>Trim Healthy Mama Xylitol</td>\n",
       "      <td>[B01898YHXK, B01BCM6LAC, B00Q4OL47O, B00Q4OL5Q...</td>\n",
       "      <td></td>\n",
       "      <td>315,867 in Grocery &amp; Gourmet Food (</td>\n",
       "      <td>Grocery</td>\n",
       "      <td></td>\n",
       "      <td>0853347867</td>\n",
       "      <td>[https://images-na.ssl-images-amazon.com/image...</td>\n",
       "    </tr>\n",
       "    <tr>\n",
       "      <th>1</th>\n",
       "      <td>[Grocery &amp; Gourmet Food, Beverages, Coffee, Te...</td>\n",
       "      <td>[Lipton Yellow Label Tea use only the finest t...</td>\n",
       "      <td>Lipton Yellow Label Tea (loose tea) - 450g</td>\n",
       "      <td>[B00886E4K0, B00CREXSHY, B001QTRGAQ, B002EYZM4...</td>\n",
       "      <td>Lipton</td>\n",
       "      <td>30,937 in Grocery &amp; Gourmet Food (</td>\n",
       "      <td>Grocery</td>\n",
       "      <td>$12.46</td>\n",
       "      <td>4639725043</td>\n",
       "      <td>[https://images-na.ssl-images-amazon.com/image...</td>\n",
       "    </tr>\n",
       "    <tr>\n",
       "      <th>2</th>\n",
       "      <td>[Grocery &amp; Gourmet Food, Beverages, Coffee, Te...</td>\n",
       "      <td>[Lipton Yellow Label Teabags uses a new way to...</td>\n",
       "      <td>Lipton Yellow Label Finest Blend Tea Bags 100 ...</td>\n",
       "      <td>[B000JSQDK4, B007ZI1SKG, 4639725043, B00KPFHOP...</td>\n",
       "      <td>Lipton</td>\n",
       "      <td>15,487 in Grocery &amp; Gourmet Food (</td>\n",
       "      <td>Grocery</td>\n",
       "      <td>$12.98</td>\n",
       "      <td>4639725183</td>\n",
       "      <td>[https://images-na.ssl-images-amazon.com/image...</td>\n",
       "    </tr>\n",
       "    <tr>\n",
       "      <th>3</th>\n",
       "      <td>[Grocery &amp; Gourmet Food, Canned, Jarred &amp; Pack...</td>\n",
       "      <td>[Dishes cooked with nutrela are very tasty and...</td>\n",
       "      <td>Nutrela High Protein Soya Chunks 200g (Pack of 6)</td>\n",
       "      <td>[B002FBD900, B00015YTS8, B00B3ARYDC, B002DMUIE...</td>\n",
       "      <td>Nutrela</td>\n",
       "      <td>195,125 in Grocery &amp; Gourmet Food (</td>\n",
       "      <td>Grocery</td>\n",
       "      <td>$24.99</td>\n",
       "      <td>5236363640</td>\n",
       "      <td>[]</td>\n",
       "    </tr>\n",
       "    <tr>\n",
       "      <th>4</th>\n",
       "      <td>[Grocery &amp; Gourmet Food, Beverages, Coffee, Te...</td>\n",
       "      <td>[20 Sachets, Empty contents into cup\\nPour 8oz...</td>\n",
       "      <td>Organo Gold Cafe Supreme 100% Certified Ganode...</td>\n",
       "      <td>[B00F3XJX6G, B003CY45VG, B003CGJAIM, B00E1C3FJ...</td>\n",
       "      <td>Organo Gold</td>\n",
       "      <td>89,943 in Grocery &amp; Gourmet Food (</td>\n",
       "      <td>Grocery</td>\n",
       "      <td>$29.90</td>\n",
       "      <td>5463213682</td>\n",
       "      <td>[https://images-na.ssl-images-amazon.com/image...</td>\n",
       "    </tr>\n",
       "    <tr>\n",
       "      <th>...</th>\n",
       "      <td>...</td>\n",
       "      <td>...</td>\n",
       "      <td>...</td>\n",
       "      <td>...</td>\n",
       "      <td>...</td>\n",
       "      <td>...</td>\n",
       "      <td>...</td>\n",
       "      <td>...</td>\n",
       "      <td>...</td>\n",
       "      <td>...</td>\n",
       "    </tr>\n",
       "    <tr>\n",
       "      <th>83289</th>\n",
       "      <td>[Grocery &amp; Gourmet Food, Condiments &amp; Salad Dr...</td>\n",
       "      <td>[A unique blend of herbs, Just Goddess from Ha...</td>\n",
       "      <td>HAMPTON CREEK Just Goddess Dressing, 12 Fluid ...</td>\n",
       "      <td>[B01HJEHE9E, B01HJF6FRA, B01N6LF9LZ]</td>\n",
       "      <td>Hampton Creek</td>\n",
       "      <td>492,676 in Grocery &amp; Gourmet Food (</td>\n",
       "      <td>Grocery</td>\n",
       "      <td></td>\n",
       "      <td>B01HJEO4QK</td>\n",
       "      <td>[]</td>\n",
       "    </tr>\n",
       "    <tr>\n",
       "      <th>83290</th>\n",
       "      <td>[Grocery &amp; Gourmet Food, Jams, Jellies &amp; Sweet...</td>\n",
       "      <td>[Caffarel fruit jellies are a product of Italy...</td>\n",
       "      <td>Caffarel Fruit Jellies, Organic Assorted, 200 ...</td>\n",
       "      <td>[B01HULC3TC, B07C8L4NWL, B014UTG6D6, B01M3UOLAP]</td>\n",
       "      <td>Caffarel</td>\n",
       "      <td>369,384 in Grocery &amp; Gourmet Food (</td>\n",
       "      <td>Grocery</td>\n",
       "      <td></td>\n",
       "      <td>B01HJFBN9A</td>\n",
       "      <td>[]</td>\n",
       "    </tr>\n",
       "    <tr>\n",
       "      <th>83291</th>\n",
       "      <td>[Grocery &amp; Gourmet Food, Condiments &amp; Salad Dr...</td>\n",
       "      <td>[Hampton Creeks Just Mayo Truffle makes fancy ...</td>\n",
       "      <td>HAMPTON CREEK Spo Just Truffle Mayo, 12 Ounce</td>\n",
       "      <td>[B00WNAEX2Q, B071LD7PMJ, B01HJF6FRA, B072HG8GF...</td>\n",
       "      <td>Hampton Creek</td>\n",
       "      <td>113,710 in Grocery &amp; Gourmet Food (</td>\n",
       "      <td>Grocery</td>\n",
       "      <td>$10.89</td>\n",
       "      <td>B01HJFC704</td>\n",
       "      <td>[]</td>\n",
       "    </tr>\n",
       "    <tr>\n",
       "      <th>83292</th>\n",
       "      <td>[Grocery &amp; Gourmet Food, Condiments &amp; Salad Dr...</td>\n",
       "      <td>[Nothing compares with the classically zesty f...</td>\n",
       "      <td>HAMPTON CREEK Just Ranch Dressing, 12 Fluid Ounce</td>\n",
       "      <td>[B071LD7PMJ, B00KOHNX6C, B00OVN2F64, B01HJEHE9...</td>\n",
       "      <td>Hampton Creek</td>\n",
       "      <td>21,731 in Grocery &amp; Gourmet Food (</td>\n",
       "      <td>Grocery</td>\n",
       "      <td>$10.95</td>\n",
       "      <td>B01HJF6FRA</td>\n",
       "      <td>[]</td>\n",
       "    </tr>\n",
       "    <tr>\n",
       "      <th>83293</th>\n",
       "      <td>[Grocery &amp; Gourmet Food, Herbs, Spices &amp; Seaso...</td>\n",
       "      <td>[]</td>\n",
       "      <td>Gourmet Pure Vanilla Bean Pastes - Organically...</td>\n",
       "      <td>[B00DUF219A, B01HJHX9ZO, B07K4K26PQ, B000H7ENQ...</td>\n",
       "      <td>Heilala Vanilla</td>\n",
       "      <td>472 in Grocery &amp; Gourmet Food (</td>\n",
       "      <td>Grocery</td>\n",
       "      <td>$14.97</td>\n",
       "      <td>B01HJHSVG6</td>\n",
       "      <td>[https://images-na.ssl-images-amazon.com/image...</td>\n",
       "    </tr>\n",
       "  </tbody>\n",
       "</table>\n",
       "<p>83294 rows × 10 columns</p>\n",
       "</div>"
      ],
      "text/plain": [
       "                                                category  \\\n",
       "0      [Grocery & Gourmet Food, Cooking & Baking, Sug...   \n",
       "1      [Grocery & Gourmet Food, Beverages, Coffee, Te...   \n",
       "2      [Grocery & Gourmet Food, Beverages, Coffee, Te...   \n",
       "3      [Grocery & Gourmet Food, Canned, Jarred & Pack...   \n",
       "4      [Grocery & Gourmet Food, Beverages, Coffee, Te...   \n",
       "...                                                  ...   \n",
       "83289  [Grocery & Gourmet Food, Condiments & Salad Dr...   \n",
       "83290  [Grocery & Gourmet Food, Jams, Jellies & Sweet...   \n",
       "83291  [Grocery & Gourmet Food, Condiments & Salad Dr...   \n",
       "83292  [Grocery & Gourmet Food, Condiments & Salad Dr...   \n",
       "83293  [Grocery & Gourmet Food, Herbs, Spices & Seaso...   \n",
       "\n",
       "                                             description  \\\n",
       "0      [Shipped from UK, please allow 10 to 21 busine...   \n",
       "1      [Lipton Yellow Label Tea use only the finest t...   \n",
       "2      [Lipton Yellow Label Teabags uses a new way to...   \n",
       "3      [Dishes cooked with nutrela are very tasty and...   \n",
       "4      [20 Sachets, Empty contents into cup\\nPour 8oz...   \n",
       "...                                                  ...   \n",
       "83289  [A unique blend of herbs, Just Goddess from Ha...   \n",
       "83290  [Caffarel fruit jellies are a product of Italy...   \n",
       "83291  [Hampton Creeks Just Mayo Truffle makes fancy ...   \n",
       "83292  [Nothing compares with the classically zesty f...   \n",
       "83293                                                 []   \n",
       "\n",
       "                                                   title  \\\n",
       "0                              Trim Healthy Mama Xylitol   \n",
       "1             Lipton Yellow Label Tea (loose tea) - 450g   \n",
       "2      Lipton Yellow Label Finest Blend Tea Bags 100 ...   \n",
       "3      Nutrela High Protein Soya Chunks 200g (Pack of 6)   \n",
       "4      Organo Gold Cafe Supreme 100% Certified Ganode...   \n",
       "...                                                  ...   \n",
       "83289  HAMPTON CREEK Just Goddess Dressing, 12 Fluid ...   \n",
       "83290  Caffarel Fruit Jellies, Organic Assorted, 200 ...   \n",
       "83291      HAMPTON CREEK Spo Just Truffle Mayo, 12 Ounce   \n",
       "83292  HAMPTON CREEK Just Ranch Dressing, 12 Fluid Ounce   \n",
       "83293  Gourmet Pure Vanilla Bean Pastes - Organically...   \n",
       "\n",
       "                                                also_buy            brand  \\\n",
       "0      [B01898YHXK, B01BCM6LAC, B00Q4OL47O, B00Q4OL5Q...                    \n",
       "1      [B00886E4K0, B00CREXSHY, B001QTRGAQ, B002EYZM4...           Lipton   \n",
       "2      [B000JSQDK4, B007ZI1SKG, 4639725043, B00KPFHOP...           Lipton   \n",
       "3      [B002FBD900, B00015YTS8, B00B3ARYDC, B002DMUIE...          Nutrela   \n",
       "4      [B00F3XJX6G, B003CY45VG, B003CGJAIM, B00E1C3FJ...      Organo Gold   \n",
       "...                                                  ...              ...   \n",
       "83289               [B01HJEHE9E, B01HJF6FRA, B01N6LF9LZ]    Hampton Creek   \n",
       "83290   [B01HULC3TC, B07C8L4NWL, B014UTG6D6, B01M3UOLAP]         Caffarel   \n",
       "83291  [B00WNAEX2Q, B071LD7PMJ, B01HJF6FRA, B072HG8GF...    Hampton Creek   \n",
       "83292  [B071LD7PMJ, B00KOHNX6C, B00OVN2F64, B01HJEHE9...    Hampton Creek   \n",
       "83293  [B00DUF219A, B01HJHX9ZO, B07K4K26PQ, B000H7ENQ...  Heilala Vanilla   \n",
       "\n",
       "                                      rank main_cat   price        asin  \\\n",
       "0      315,867 in Grocery & Gourmet Food (  Grocery          0853347867   \n",
       "1       30,937 in Grocery & Gourmet Food (  Grocery  $12.46  4639725043   \n",
       "2       15,487 in Grocery & Gourmet Food (  Grocery  $12.98  4639725183   \n",
       "3      195,125 in Grocery & Gourmet Food (  Grocery  $24.99  5236363640   \n",
       "4       89,943 in Grocery & Gourmet Food (  Grocery  $29.90  5463213682   \n",
       "...                                    ...      ...     ...         ...   \n",
       "83289  492,676 in Grocery & Gourmet Food (  Grocery          B01HJEO4QK   \n",
       "83290  369,384 in Grocery & Gourmet Food (  Grocery          B01HJFBN9A   \n",
       "83291  113,710 in Grocery & Gourmet Food (  Grocery  $10.89  B01HJFC704   \n",
       "83292   21,731 in Grocery & Gourmet Food (  Grocery  $10.95  B01HJF6FRA   \n",
       "83293      472 in Grocery & Gourmet Food (  Grocery  $14.97  B01HJHSVG6   \n",
       "\n",
       "                                                imageURL  \n",
       "0      [https://images-na.ssl-images-amazon.com/image...  \n",
       "1      [https://images-na.ssl-images-amazon.com/image...  \n",
       "2      [https://images-na.ssl-images-amazon.com/image...  \n",
       "3                                                     []  \n",
       "4      [https://images-na.ssl-images-amazon.com/image...  \n",
       "...                                                  ...  \n",
       "83289                                                 []  \n",
       "83290                                                 []  \n",
       "83291                                                 []  \n",
       "83292                                                 []  \n",
       "83293  [https://images-na.ssl-images-amazon.com/image...  \n",
       "\n",
       "[83294 rows x 10 columns]"
      ]
     },
     "execution_count": 5,
     "metadata": {},
     "output_type": "execute_result"
    }
   ],
   "source": [
    "df.drop('date', axis=1)"
   ]
  },
  {
   "cell_type": "code",
   "execution_count": 6,
   "id": "86a7429b-3fe6-47d2-aa7e-85177a352a53",
   "metadata": {
    "scrolled": true
   },
   "outputs": [],
   "source": [
    "column_to_print = df['price'].unique()"
   ]
  },
  {
   "cell_type": "markdown",
   "id": "37623dd6-cbeb-463f-8ee5-1783f45f594c",
   "metadata": {},
   "source": [
    "## cleaning price column"
   ]
  },
  {
   "cell_type": "code",
   "execution_count": 7,
   "id": "a4dbfa26-d19d-4bcb-91a4-1a18ca1d5a44",
   "metadata": {},
   "outputs": [
    {
     "name": "stdout",
     "output_type": "stream",
     "text": [
      "There were NaN values in the 'price' column. They have been replaced.\n"
     ]
    }
   ],
   "source": [
    "\n",
    "# Convert 'price' column to strings\n",
    "df['price'] = df['price'].astype(str)\n",
    "# Clean 'price' column by removing non-numeric characters and empty strings\n",
    "df['price'] = df['price'].str.replace('[^\\d.]', '', regex=True)\n",
    "\n",
    "# Convert 'price' column to numeric\n",
    "df['price'] = pd.to_numeric(df['price'], errors='coerce')\n",
    "\n",
    "# Check again for NaN values in the 'price' column\n",
    "if df['price'].isna().any():\n",
    "    print(\"There were NaN values in the 'price' column. They have been replaced.\")\n",
    "else:\n",
    "    print(\"There are no NaN values in the 'price' column.\")"
   ]
  },
  {
   "cell_type": "markdown",
   "id": "0cc83543-adf8-471e-9e19-d0ce4e04261c",
   "metadata": {},
   "source": [
    "# Data Analysis"
   ]
  },
  {
   "cell_type": "code",
   "execution_count": 8,
   "id": "8b586929-714b-42e3-9e75-979d5d815ec3",
   "metadata": {},
   "outputs": [
    {
     "data": {
      "image/png": "[encoded data removed]",
      "text/plain": [
       "<Figure size 1000x500 with 1 Axes>"
      ]
     },
     "metadata": {},
     "output_type": "display_data"
    },
    {
     "data": {
      "image/png": "[encoded data removed]",
      "text/plain": [
       "<Figure size 1000x500 with 1 Axes>"
      ]
     },
     "metadata": {},
     "output_type": "display_data"
    }
   ],
   "source": [
    "import matplotlib.pyplot as plt\n",
    "import seaborn as sns\n",
    "\n",
    "# Imputing missing values in the 'price' column with the median price\n",
    "median_price = df['price'].median()\n",
    "df['price'].fillna(median_price, inplace=True)\n",
    "\n",
    "# Visualizing the distribution of product prices\n",
    "plt.figure(figsize=(10, 5))\n",
    "sns.histplot(df['price'], bins=30, kde=True)\n",
    "plt.title('Distribution of Product Prices')\n",
    "plt.xlabel('Price ($)')\n",
    "plt.ylabel('Frequency')\n",
    "plt.grid(True)\n",
    "plt.tight_layout()\n",
    "plt.show()\n",
    "\n",
    "# Visualizing the distribution of the number of products frequently bought together\n",
    "also_buy_lengths = df['also_buy'].apply(len)\n",
    "plt.figure(figsize=(10, 5))\n",
    "sns.histplot(also_buy_lengths, bins=30, kde=True)\n",
    "plt.title('Distribution of Number of Products Frequently Bought Together')\n",
    "plt.xlabel('Number of Products')\n",
    "plt.ylabel('Frequency')\n",
    "plt.grid(True)\n",
    "plt.tight_layout()\n",
    "plt.show()"
   ]
  },
  {
   "cell_type": "markdown",
   "id": "8511fb54-6768-4f57-aa7f-701ecc5960e4",
   "metadata": {},
   "source": [
    "# The visualizations provide the following insights:\n",
    "\n",
    "Distribution of Product Prices:\n",
    "\n",
    "The majority of products are priced below 50 Dollars, with a peak observed in the lower price range (below $20).\n",
    "There are a few products with prices extending towards 100 Dollars, indicating the presence of some more expensive items in the dataset.\n",
    "Distribution of Number of Products Frequently Bought Together:\n",
    "\n",
    "Most products are frequently bought with approximately 0 to 50 other products.\n",
    "The distribution shows a long tail, indicating that there are a few products that are bought together with a large number of other products (up to 100)."
   ]
  },
  {
   "cell_type": "markdown",
   "id": "6e4aa1ca-9822-4797-8e1c-64e2777873e7",
   "metadata": {},
   "source": [
    "# Category Analysis"
   ]
  },
  {
   "cell_type": "code",
   "execution_count": 9,
   "id": "910953ee-3af2-44bb-b650-436161f06bae",
   "metadata": {},
   "outputs": [
    {
     "data": {
      "image/png": "[encoded data removed]",
      "text/plain": [
       "<Figure size 1000x600 with 1 Axes>"
      ]
     },
     "metadata": {},
     "output_type": "display_data"
    },
    {
     "data": {
      "text/plain": [
       "Grocery & Gourmet Food    83294\n",
       "Name: primary_category, dtype: int64"
      ]
     },
     "execution_count": 9,
     "metadata": {},
     "output_type": "execute_result"
    }
   ],
   "source": [
    "# Extracting the primary category (first level) for each product and creating a new column for it\n",
    "df['primary_category'] = df['category'].apply(lambda x: x[0] if x else 'Unknown')\n",
    "\n",
    "# Counting the number of products in each primary category\n",
    "category_counts = df['primary_category'].value_counts()\n",
    "\n",
    "# Visualizing the distribution of products across the primary categories\n",
    "plt.figure(figsize=(10, 6))\n",
    "sns.barplot(x=category_counts.values, y=category_counts.index, palette='viridis')\n",
    "plt.title('Distribution of Products Across Primary Categories')\n",
    "plt.xlabel('Number of Products')\n",
    "plt.ylabel('Primary Category')\n",
    "plt.grid(True)\n",
    "plt.tight_layout()\n",
    "plt.show()\n",
    "\n",
    "category_counts\n"
   ]
  },
  {
   "cell_type": "markdown",
   "id": "76a74fc3-458e-4428-b5b1-27faa0fdbc80",
   "metadata": {},
   "source": [
    "It appears that all the products in the dataset belong to the \"Grocery & Gourmet Food\" primary category. This indicates that our dataset is focused on a specific category, which can be beneficial as the products are more likely to be related and thus can result in more relevant recommendations."
   ]
  },
  {
   "cell_type": "markdown",
   "id": "f994ed0c-b529-4a3e-a189-ab63fba9167a",
   "metadata": {},
   "source": [
    "# Create Co-Purchase List"
   ]
  },
  {
   "cell_type": "code",
   "execution_count": 10,
   "id": "d5433508-63f8-4d92-9072-411ec36acf50",
   "metadata": {},
   "outputs": [],
   "source": [
    "co_purchase_list = []\n",
    "for index, row in df.iterrows():\n",
    "    main_asin = row['asin']\n",
    "    also_buy_asins = row['also_buy']\n",
    "    co_purchase_pairs = [(main_asin, other_asin) for other_asin in also_buy_asins]\n",
    "    co_purchase_list.extend(co_purchase_pairs)\n",
    "co_purchase_df = pd.DataFrame(co_purchase_list, columns=['asin1', 'asin2'])"
   ]
  },
  {
   "cell_type": "markdown",
   "id": "90c19f12-2c9f-4bf5-ae17-07033bf3d6b1",
   "metadata": {},
   "source": [
    "# Create a co-purchase frequency matrix"
   ]
  },
  {
   "cell_type": "code",
   "execution_count": 11,
   "id": "ffec2037-96f5-4246-8577-1b3e66c7ede1",
   "metadata": {},
   "outputs": [],
   "source": [
    "co_purchase_frequency = co_purchase_df.groupby(['asin1', 'asin2']).size().reset_index(name='frequency')"
   ]
  },
  {
   "cell_type": "markdown",
   "id": "5b82bded-cef7-4024-8b95-720950496409",
   "metadata": {},
   "source": [
    "# Create Sparse Matrix"
   ]
  },
  {
   "cell_type": "code",
   "execution_count": 12,
   "id": "eca32479-7cc9-404a-ba64-4993df58c05d",
   "metadata": {},
   "outputs": [],
   "source": [
    "from sklearn.metrics.pairwise import cosine_similarity\n",
    "from scipy.sparse import csr_matrix\n",
    "from sklearn.model_selection import train_test_split"
   ]
  },
  {
   "cell_type": "code",
   "execution_count": 13,
   "id": "69e60029-88b2-4fd2-b0a1-6e512f6835fe",
   "metadata": {},
   "outputs": [],
   "source": [
    "all_asins = pd.concat([co_purchase_frequency['asin1'], co_purchase_frequency['asin2']]).unique()\n",
    "asin_to_code = {asin: i for i, asin in enumerate(all_asins)}\n",
    "code_to_asin = {i: asin for asin, i in asin_to_code.items()}"
   ]
  },
  {
   "cell_type": "markdown",
   "id": "a9878375-1166-46de-910f-2eadf395bc1b",
   "metadata": {},
   "source": [
    "# Calculate Cosine Similarity"
   ]
  },
  {
   "cell_type": "code",
   "execution_count": 14,
   "id": "ce9c139a-1fad-4a7c-bfb3-0016f4861a7b",
   "metadata": {},
   "outputs": [],
   "source": [
    "# train_cosine_sim = cosine_similarity(co_purchase_sparse_matrix, dense_output=False)"
   ]
  },
  {
   "cell_type": "markdown",
   "id": "3d405b56-09a6-442b-89d7-7f681fc805c3",
   "metadata": {},
   "source": [
    "# Create Utility Functions"
   ]
  },
  {
   "cell_type": "code",
   "execution_count": 15,
   "id": "78cbc548-bc25-4cfe-bff6-7941229d4a6e",
   "metadata": {},
   "outputs": [],
   "source": [
    "def get_product_title(asin):\n",
    "    try:\n",
    "        return df[df['asin'] == asin]['title'].values[0]\n",
    "    except IndexError:\n",
    "        return 'Unknown Product'\n"
   ]
  },
  {
   "cell_type": "markdown",
   "id": "6ac6faa2-19db-42ab-b660-bb7ad450a08c",
   "metadata": {},
   "source": [
    "# Create Recommendation Function"
   ]
  },
  {
   "cell_type": "code",
   "execution_count": 16,
   "id": "7e860fb5-ed8f-4c7a-8259-718e09518908",
   "metadata": {},
   "outputs": [],
   "source": [
    "def recommend_products(product_name, num_recommendations=5):\n",
    "    try:\n",
    "        # Get the ASIN for the input product name\n",
    "        product_asin = df[df['title'].str.contains(product_name, case=False, na=False)]['asin'].values[0]\n",
    "        \n",
    "        # Get the product code for the input ASIN\n",
    "        product_code = asin_to_code[product_asin]\n",
    "        \n",
    "        # Get the similarity scores for the input product\n",
    "        similarity_scores = train_cosine_sim[product_code]\n",
    "        \n",
    "        # Get the indices of the top 'num_recommendations' products\n",
    "        similar_products = similarity_scores.toarray().ravel().argsort()[-num_recommendations-1:-1][::-1]\n",
    "        \n",
    "        # Get the ASINs of the top 'num_recommendations' products\n",
    "        recommended_asins = [code_to_asin[code] for code in similar_products]\n",
    "        \n",
    "        # Get the titles of the top 'num_recommendations' products\n",
    "        recommended_titles = [get_product_title(asin) for asin in recommended_asins]\n",
    "        \n",
    "        return recommended_titles\n",
    "    except (IndexError, KeyError):\n",
    "        return 'Product not found in the dataset'"
   ]
  },
  {
   "cell_type": "code",
   "execution_count": 17,
   "id": "58a86516-e7fa-48cd-b307-d5e792081531",
   "metadata": {},
   "outputs": [],
   "source": [
    "# Step 5: Split the data into training and testing sets\n",
    "train_data, test_data = train_test_split(co_purchase_frequency, test_size=0.2, random_state=42)\n",
    "\n",
    "# Step 6: Create a training sparse matrix\n",
    "train_sparse_matrix = csr_matrix((train_data['frequency'], \n",
    "                                  (train_data['asin1'].map(asin_to_code), \n",
    "                                   train_data['asin2'].map(asin_to_code))))\n",
    "\n",
    "# Step 7: Create a testing sparse matrix\n",
    "test_sparse_matrix = csr_matrix((test_data['frequency'], \n",
    "                                 (test_data['asin1'].map(asin_to_code), \n",
    "                                  test_data['asin2'].map(asin_to_code))))\n",
    "\n",
    "\n",
    "# Calculating cosine similarity scores for the training data\n",
    "train_cosine_sim = cosine_similarity(train_sparse_matrix, dense_output=False)"
   ]
  },
  {
   "cell_type": "code",
   "execution_count": 17,
   "id": "6562605d-5616-46ee-89e2-e2f4a3455ac8",
   "metadata": {},
   "outputs": [
    {
     "data": {
      "text/plain": [
       "(0.06372969499527753, 0.05306608792016822, 0.05791109085151159)"
      ]
     },
     "execution_count": 17,
     "metadata": {},
     "output_type": "execute_result"
    }
   ],
   "source": [
    "# Define functions to calculate precision, recall, and F1-score\n",
    "def calculate_metrics(test_matrix, sim_matrix, top_n):\n",
    "    precisions = []\n",
    "    recalls = []\n",
    "    for idx in range(test_matrix.shape[0]):\n",
    "        # Get the ground truth for the current product\n",
    "        ground_truth = test_matrix[idx].nonzero()[1]\n",
    "        if len(ground_truth) == 0:\n",
    "            continue\n",
    "        \n",
    "        # Get the top N recommendations for the current product\n",
    "        recommendations = sim_matrix[idx].toarray().ravel().argsort()[-top_n:]\n",
    "        \n",
    "        # Calculate the number of relevant recommendations\n",
    "        relevant_recommendations = len(set(recommendations) & set(ground_truth))\n",
    "        \n",
    "        # Calculate precision and recall\n",
    "        precision = relevant_recommendations / top_n\n",
    "        recall = relevant_recommendations / len(ground_truth)\n",
    "        \n",
    "        precisions.append(precision)\n",
    "        recalls.append(recall)\n",
    "    \n",
    "    # Calculate the average precision, recall, and F1-score\n",
    "    avg_precision = sum(precisions) / len(precisions)\n",
    "    avg_recall = sum(recalls) / len(recalls)\n",
    "    f1_score = 2 * (avg_precision * avg_recall) / (avg_precision + avg_recall)\n",
    "    \n",
    "    return avg_precision, avg_recall, f1_score\n",
    "\n",
    "# Calculate the metrics for the top 5 recommendations\n",
    "calculate_metrics(test_sparse_matrix, train_cosine_sim, top_n=5)"
   ]
  },
  {
   "cell_type": "markdown",
   "id": "66d4032d-52e3-4829-953f-41d64759f8d2",
   "metadata": {},
   "source": [
    "# Example usage of the recommendation function"
   ]
  },
  {
   "cell_type": "code",
   "execution_count": 19,
   "id": "c306483b-d540-4e5c-b894-6842766be82a",
   "metadata": {},
   "outputs": [
    {
     "data": {
      "text/plain": [
       "['Strawberry Extract 4 oz, 4 Ounce',\n",
       " 'Pure Pineapple Extract, 4 Ounce',\n",
       " 'Pure Peach Extract, 8 Ounce',\n",
       " 'OliveNation Pumpkin Pie Natural Flavor, 8 Ounce',\n",
       " 'Set of 6 Tropical Extracts (Banana, Mango, Pineapple, Peach, Coconut, Waterme...']"
      ]
     },
     "execution_count": 19,
     "metadata": {},
     "output_type": "execute_result"
    }
   ],
   "source": [
    "recommend_products('Raspberry Red Extract 4 oz, 4 Ounce', num_recommendations=5)"
   ]
  },
  {
   "cell_type": "code",
   "execution_count": null,
   "id": "1b63ca79",
   "metadata": {},
   "outputs": [],
   "source": []
  }
 ],
 "metadata": {
  "kernelspec": {
   "display_name": "Python 3 (ipykernel)",
   "language": "python",
   "name": "python3"
  },
  "language_info": {
   "codemirror_mode": {
    "name": "ipython",
    "version": 3
   },
   "file_extension": ".py",
   "mimetype": "text/x-python",
   "name": "python",
   "nbconvert_exporter": "python",
   "pygments_lexer": "ipython3",
   "version": "3.9.13"
  }
 },
 "nbformat": 4,
 "nbformat_minor": 5
}
